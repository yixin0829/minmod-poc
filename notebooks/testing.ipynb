{
  "cells": [
    {
      "cell_type": "code",
      "execution_count": 2,
      "metadata": {},
      "outputs": [
        {
          "data": {
            "text/plain": [
              "{'id': 123, 'name': 'John Doe', 'friends': [1, 2, 3]}"
            ]
          },
          "execution_count": 2,
          "metadata": {},
          "output_type": "execute_result"
        }
      ],
      "source": [
        "from typing import Optional, List\n",
        "from pydantic.v1 import BaseModel\n",
        "import datetime\n",
        "\n",
        "# Define a class that inherits from BaseModel\n",
        "class User(BaseModel):\n",
        "    id: int\n",
        "    name: str\n",
        "    friends: List[int] = []\n",
        "\n",
        "# Create an instance of the class\n",
        "user = User(id=123, name=\"John Doe\", friends=[1, 2, 3])\n",
        "user.dict()"
      ]
    },
    {
      "cell_type": "code",
      "execution_count": 3,
      "metadata": {},
      "outputs": [
        {
          "data": {
            "text/plain": [
              "'{\"title\": \"User\", \"type\": \"object\", \"properties\": {\"id\": {\"title\": \"Id\", \"type\": \"integer\"}, \"name\": {\"title\": \"Name\", \"type\": \"string\"}, \"friends\": {\"title\": \"Friends\", \"default\": [], \"type\": \"array\", \"items\": {\"type\": \"integer\"}}}, \"required\": [\"id\", \"name\"]}'"
            ]
          },
          "execution_count": 3,
          "metadata": {},
          "output_type": "execute_result"
        }
      ],
      "source": [
        "user.schema_json()"
      ]
    },
    {
      "cell_type": "markdown",
      "metadata": {},
      "source": [
        "## Extract XML"
      ]
    },
    {
      "cell_type": "code",
      "execution_count": 4,
      "metadata": {},
      "outputs": [
        {
          "name": "stdout",
          "output_type": "stream",
          "text": [
            "\n",
            "- Reoc\u00edn is a mining complex comprised of the following operational areas for the production of separate lead and zinc concentrates: an underground mine, an open pit mine, a concentrator (mill) mine waste management, and infrastructure. Figure 2-1 shows a location map of Reoc\u00edn. Figure 2-2 shows an overview of the various facilities at the Reoc\u00edn mine. Zinc ore has been continuously mined at the Reoc\u00edn site since 1857. Asturiana purchased the mine in 1981.\n",
            "- Hinojedo roasting plant is located approximately 6 kilometres north-east of the Reoc\u00edn mine and processes zinc concentrates from the Reoc\u00edn mine to produce calcine. The calcine is transported to San Juan de Nieva zinc operation for processing. Additionally, lead concentrates from Reoc\u00edn are stored here prior to loadout and shipment to external lead smelting facilities. The Hinojedo facility dates to 1929, with a major rehabilitation program completed in 1996 to bring the plant to its current operating configuration. The facility was acquired by Asturiana in 1980.\n",
            "- The San Juan de Nieva zinc smelter/refinery operation utilises conventional technologies for the production of zinc ingots, zinc alloys, zinc for plating and zinc dust. By-products from San Juan de Nieva are sulphuric acid, mercury and germanium oxide. The unit\u2019s operations at San Juan de Nieva include: concentrate receiving and storage, roasting and acid plant, leaching and purification, electrowinning and casting. The San Juan de Nieva smelter was originally commissioned in 1960 and has undergone several expansions, withthe most recent being completed in August 2001.\n",
            "- The Arnao manufacturing facility produces zinc oxide dust, rolled zinc products, lead anodes, and zinc wire. The Arnao factory is reported to have been in operation as early as the 1830s. Asturiana purchased the facility in 1980.\n",
            "\n"
          ]
        }
      ],
      "source": [
        "import re\n",
        "\n",
        "# Sample string with XML content\n",
        "xml_string = \"\"\"<retrieved>\n",
        "- Reoc\u00edn is a mining complex comprised of the following operational areas for the production of separate lead and zinc concentrates: an underground mine, an open pit mine, a concentrator (mill) mine waste management, and infrastructure. Figure 2-1 shows a location map of Reoc\u00edn. Figure 2-2 shows an overview of the various facilities at the Reoc\u00edn mine. Zinc ore has been continuously mined at the Reoc\u00edn site since 1857. Asturiana purchased the mine in 1981.\n",
        "- Hinojedo roasting plant is located approximately 6 kilometres north-east of the Reoc\u00edn mine and processes zinc concentrates from the Reoc\u00edn mine to produce calcine. The calcine is transported to San Juan de Nieva zinc operation for processing. Additionally, lead concentrates from Reoc\u00edn are stored here prior to loadout and shipment to external lead smelting facilities. The Hinojedo facility dates to 1929, with a major rehabilitation program completed in 1996 to bring the plant to its current operating configuration. The facility was acquired by Asturiana in 1980.\n",
        "- The San Juan de Nieva zinc smelter/refinery operation utilises conventional technologies for the production of zinc ingots, zinc alloys, zinc for plating and zinc dust. By-products from San Juan de Nieva are sulphuric acid, mercury and germanium oxide. The unit\u2019s operations at San Juan de Nieva include: concentrate receiving and storage, roasting and acid plant, leaching and purification, electrowinning and casting. The San Juan de Nieva smelter was originally commissioned in 1960 and has undergone several expansions, withthe most recent being completed in August 2001.\n",
        "- The Arnao manufacturing facility produces zinc oxide dust, rolled zinc products, lead anodes, and zinc wire. The Arnao factory is reported to have been in operation as early as the 1830s. Asturiana purchased the facility in 1980.\n",
        "</retrieved>\"\"\"\n",
        "\n",
        "# Regular expression to match content between <tag> and </tag>\n",
        "pattern = r\"<retrieved>((.|\\n)*?)<\\/retrieved>\"\n",
        "\n",
        "# Search for the pattern in the string\n",
        "match = re.search(pattern, xml_string)\n",
        "\n",
        "# Extract all matches if found\n",
        "if match:\n",
        "    content = match.group(1)\n",
        "    print(content)\n",
        "else:\n",
        "    print(\"No match found\")\n"
      ]
    },
    {
      "cell_type": "markdown",
      "metadata": {},
      "source": [
        "# Regex to process query"
      ]
    },
    {
      "cell_type": "code",
      "execution_count": 5,
      "metadata": {},
      "outputs": [
        {
          "data": {
            "text/plain": [
              "[\"the mineral site's name this document about\",\n",
              " \"the mineral site's location, coordinate reference system used, the country and state/province where the mineral site is located in\",\n",
              " \"the mineral site's resources or reserves What are the mineral commodities, their categories (e.g. indicated, inferred, measured, probable, proven), ore tonnage, grade, cutoff grade, date reported, and zone\",\n",
              " \"the mineral site's deposit type\"]"
            ]
          },
          "execution_count": 5,
          "metadata": {},
          "output_type": "execute_result"
        }
      ],
      "source": [
        "import re\n",
        "\n",
        "# List of queries\n",
        "queries = [\n",
        "    \"what's the mineral site's name this document about?\",\n",
        "    \"whAt's the mineral site's location, coordinate reference system used, the country and state/province where the mineral site is located in?\",\n",
        "    \"wHat's the mineral site's resources or reserves? What are the mineral commodities, their categories (e.g. indicated, inferred, measured, probable, proven), ore tonnage, grade, cutoff grade, date reported, and zone?\",\n",
        "    \"What's the mineral site's deposit type?\"\n",
        "]\n",
        "\n",
        "# Regex to find and replace \"what's \" and \"?\"\n",
        "regex_pattern = r\"what's\\s|\\?\"\n",
        "\n",
        "# Applying regex replace to each query\n",
        "cleaned_queries = [re.sub(regex_pattern, \"\", query, flags=re.IGNORECASE) for query in queries]\n",
        "\n",
        "cleaned_queries\n"
      ]
    },
    {
      "cell_type": "markdown",
      "metadata": {},
      "source": [
        "# Read txt to string"
      ]
    },
    {
      "cell_type": "code",
      "execution_count": 2,
      "metadata": {},
      "outputs": [],
      "source": [
        "import json\n",
        "with open(\"../data/asset/parsed_result_w_gt/Bongar\u00e1_Zn_3-2019/Bongar\u00e1_Zn_3-2019.txt\", \"r\") as file:\n",
        "    content = file.read()\n",
        "\n",
        "d = {\"input\": content}\n",
        "\n",
        "# wirte d to a file\n",
        "with open(\"test.json\", \"w\") as file:\n",
        "    file.write(json.dumps(d, indent=4))"
      ]
    },
    {
      "cell_type": "markdown",
      "metadata": {},
      "source": [
        "# LangChain Evaluation"
      ]
    },
    {
      "cell_type": "code",
      "execution_count": 6,
      "metadata": {},
      "outputs": [
        {
          "name": "stderr",
          "output_type": "stream",
          "text": [
            "\u001b[32m2024-03-09 21:25:41.668\u001b[0m | \u001b[1mINFO    \u001b[0m | \u001b[36m__main__\u001b[0m:\u001b[36m<module>\u001b[0m:\u001b[36m6\u001b[0m - \u001b[1mCloning Email Extraction dataset\u001b[0m\n",
            "\u001b[32m2024-03-09 21:25:41.669\u001b[0m | \u001b[1mINFO    \u001b[0m | \u001b[36m__main__\u001b[0m:\u001b[36m<module>\u001b[0m:\u001b[36m7\u001b[0m - \u001b[1mTask description A dataset of 42 real emails deduped from a spam folder, with semantic HTML tags removed, as well as a script for initial extraction and formatting of other emails from an arbitrary .mbox file like the one exported by Gmail.\n",
            "\n",
            "Some additional cleanup of the data was done by hand after the initial pass.\n",
            "\n",
            "See https://github.com/jacoblee93/oss-model-extraction-evals.\n",
            "    \u001b[0m\n"
          ]
        },
        {
          "name": "stdout",
          "output_type": "stream",
          "text": [
            "Dataset Email Extraction already exists. Skipping.\n",
            "You can access the dataset at https://smith.langchain.com/o/070d9f00-e34e-5115-a9ff-2f39ea17056a/datasets/26c0f964-36c0-479c-8ad9-978293de69f5.\n"
          ]
        }
      ],
      "source": [
        "from langchain_benchmarks import clone_public_dataset, registry\n",
        "from loguru import logger\n",
        "\n",
        "\n",
        "task = registry[\"Email Extraction\"]\n",
        "logger.info(f\"Cloning {task.name} dataset\")\n",
        "logger.info(f\"Task description {task.description}\")\n",
        "\n",
        "clone_public_dataset(task.dataset_id, dataset_name=task.name)\n",
        "\n"
      ]
    },
    {
      "cell_type": "code",
      "execution_count": 7,
      "metadata": {},
      "outputs": [
        {
          "data": {
            "text/plain": [
              "pydantic.v1.main.ModelMetaclass"
            ]
          },
          "execution_count": 7,
          "metadata": {},
          "output_type": "execute_result"
        }
      ],
      "source": [
        "type(task.schema)"
      ]
    },
    {
      "cell_type": "code",
      "execution_count": 8,
      "metadata": {},
      "outputs": [
        {
          "data": {
            "text/plain": [
              "{'title': 'Email',\n",
              " 'description': 'Relevant information about an email.',\n",
              " 'type': 'object',\n",
              " 'properties': {'sender': {'title': 'Sender',\n",
              "   'description': \"The sender's name, if available\",\n",
              "   'type': 'string'},\n",
              "  'sender_phone_number': {'title': 'Sender Phone Number',\n",
              "   'description': \"The sender's phone number, if available\",\n",
              "   'type': 'string'},\n",
              "  'sender_address': {'title': 'Sender Address',\n",
              "   'description': \"The sender's address, if available\",\n",
              "   'type': 'string'},\n",
              "  'action_items': {'title': 'Action Items',\n",
              "   'description': 'A list of action items requested by the email',\n",
              "   'type': 'array',\n",
              "   'items': {'type': 'string'}},\n",
              "  'topic': {'title': 'Topic',\n",
              "   'description': 'High level description of what the email is about',\n",
              "   'type': 'string'},\n",
              "  'tone': {'description': 'The tone of the email.',\n",
              "   'allOf': [{'$ref': '#/definitions/ToneEnum'}]}},\n",
              " 'required': ['action_items', 'topic', 'tone'],\n",
              " 'definitions': {'ToneEnum': {'title': 'ToneEnum',\n",
              "   'description': 'The tone of the email.',\n",
              "   'enum': ['positive', 'negative'],\n",
              "   'type': 'string'}}}"
            ]
          },
          "execution_count": 8,
          "metadata": {},
          "output_type": "execute_result"
        }
      ],
      "source": [
        "task.schema.schema()"
      ]
    },
    {
      "cell_type": "code",
      "execution_count": 9,
      "metadata": {},
      "outputs": [
        {
          "data": {
            "text/plain": [
              "ChatPromptTemplate(input_variables=['input'], messages=[SystemMessagePromptTemplate(prompt=PromptTemplate(input_variables=[], template='You are an expert researcher.')), HumanMessagePromptTemplate(prompt=PromptTemplate(input_variables=['input'], template='What can you tell me about the following email? Make sure to extract the question in the correct format. Here is the email:\\n ```\\n{input}\\n```'))])"
            ]
          },
          "execution_count": 9,
          "metadata": {},
          "output_type": "execute_result"
        }
      ],
      "source": [
        "task.instructions"
      ]
    },
    {
      "cell_type": "code",
      "execution_count": 10,
      "metadata": {},
      "outputs": [],
      "source": [
        "from langchain.chat_models import ChatOpenAI\n",
        "from langchain.output_parsers.openai_functions import JsonOutputFunctionsParser\n",
        "\n",
        "llm = ChatOpenAI(model=\"gpt-3.5-turbo-16k\", temperature=0).bind_functions(\n",
        "    functions=[task.schema],\n",
        "    function_call=task.schema.schema()[\"title\"],\n",
        ")\n",
        "\n",
        "output_parser = JsonOutputFunctionsParser()\n",
        "extraction_chain = task.instructions | llm | output_parser | (lambda x: {\"output\": x})"
      ]
    },
    {
      "cell_type": "code",
      "execution_count": 11,
      "metadata": {},
      "outputs": [
        {
          "data": {
            "text/plain": [
              "{'output': {'sender': 'Unknown',\n",
              "  'sender_phone_number': '000-1212-1111',\n",
              "  'sender_address': '12345 My Gold Way',\n",
              "  'action_items': ['Buy an envelope',\n",
              "   'Put gold inside',\n",
              "   'Close the envelope',\n",
              "   \"Mail it to sender's address\"],\n",
              "  'topic': 'Request to send gold',\n",
              "  'tone': 'positive'}}"
            ]
          },
          "execution_count": 11,
          "metadata": {},
          "output_type": "execute_result"
        }
      ],
      "source": [
        "extraction_chain.invoke(\n",
        "    {\n",
        "        \"input\": \"Hello Dear MR. I want you to send me gold to get rich.\"\n",
        "        \" First buy an envelope. Then open it and put some gold inside. \"\n",
        "        \"Then close it and finally mail it to my address at 12345 My Gold Way.\"\n",
        "        \" You can call me any time at 000-1212-1111.\"\n",
        "    }\n",
        ")"
      ]
    },
    {
      "cell_type": "code",
      "execution_count": 12,
      "metadata": {},
      "outputs": [
        {
          "name": "stdout",
          "output_type": "stream",
          "text": [
            "View the evaluation results for project 'excellent-gate-30' at:\n",
            "https://smith.langchain.com/o/070d9f00-e34e-5115-a9ff-2f39ea17056a/datasets/26c0f964-36c0-479c-8ad9-978293de69f5/compare?selectedSessions=a3c743dd-2851-4467-9b8f-a84dfc962820\n",
            "\n",
            "View all tests for Dataset Email Extraction at:\n",
            "https://smith.langchain.com/o/070d9f00-e34e-5115-a9ff-2f39ea17056a/datasets/26c0f964-36c0-479c-8ad9-978293de69f5\n",
            "[------------------------------------------------->] 42/42"
          ]
        },
        {
          "data": {
            "text/html": [
              "<h3>Experiment Results:</h3>"
            ],
            "text/plain": [
              "<IPython.core.display.HTML object>"
            ]
          },
          "metadata": {},
          "output_type": "display_data"
        },
        {
          "data": {
            "text/html": [
              "<div>\n",
              "<style scoped>\n",
              "    .dataframe tbody tr th:only-of-type {\n",
              "        vertical-align: middle;\n",
              "    }\n",
              "\n",
              "    .dataframe tbody tr th {\n",
              "        vertical-align: top;\n",
              "    }\n",
              "\n",
              "    .dataframe thead th {\n",
              "        text-align: right;\n",
              "    }\n",
              "</style>\n",
              "<table border=\"1\" class=\"dataframe\">\n",
              "  <thead>\n",
              "    <tr style=\"text-align: right;\">\n",
              "      <th></th>\n",
              "      <th>feedback.json_edit_distance</th>\n",
              "      <th>feedback.score_string:accuracy</th>\n",
              "      <th>error</th>\n",
              "      <th>execution_time</th>\n",
              "      <th>run_id</th>\n",
              "    </tr>\n",
              "  </thead>\n",
              "  <tbody>\n",
              "    <tr>\n",
              "      <th>count</th>\n",
              "      <td>42.000000</td>\n",
              "      <td>42.000000</td>\n",
              "      <td>0</td>\n",
              "      <td>42.000000</td>\n",
              "      <td>42</td>\n",
              "    </tr>\n",
              "    <tr>\n",
              "      <th>unique</th>\n",
              "      <td>NaN</td>\n",
              "      <td>NaN</td>\n",
              "      <td>0</td>\n",
              "      <td>NaN</td>\n",
              "      <td>42</td>\n",
              "    </tr>\n",
              "    <tr>\n",
              "      <th>top</th>\n",
              "      <td>NaN</td>\n",
              "      <td>NaN</td>\n",
              "      <td>NaN</td>\n",
              "      <td>NaN</td>\n",
              "      <td>d9c6a0ed-eb1f-45c6-b4f9-9bd4860e04fa</td>\n",
              "    </tr>\n",
              "    <tr>\n",
              "      <th>freq</th>\n",
              "      <td>NaN</td>\n",
              "      <td>NaN</td>\n",
              "      <td>NaN</td>\n",
              "      <td>NaN</td>\n",
              "      <td>1</td>\n",
              "    </tr>\n",
              "    <tr>\n",
              "      <th>mean</th>\n",
              "      <td>0.572561</td>\n",
              "      <td>0.457143</td>\n",
              "      <td>NaN</td>\n",
              "      <td>1.139226</td>\n",
              "      <td>NaN</td>\n",
              "    </tr>\n",
              "    <tr>\n",
              "      <th>std</th>\n",
              "      <td>0.178292</td>\n",
              "      <td>0.251961</td>\n",
              "      <td>NaN</td>\n",
              "      <td>0.382229</td>\n",
              "      <td>NaN</td>\n",
              "    </tr>\n",
              "    <tr>\n",
              "      <th>min</th>\n",
              "      <td>0.190883</td>\n",
              "      <td>0.100000</td>\n",
              "      <td>NaN</td>\n",
              "      <td>0.539119</td>\n",
              "      <td>NaN</td>\n",
              "    </tr>\n",
              "    <tr>\n",
              "      <th>25%</th>\n",
              "      <td>0.441978</td>\n",
              "      <td>0.300000</td>\n",
              "      <td>NaN</td>\n",
              "      <td>0.914502</td>\n",
              "      <td>NaN</td>\n",
              "    </tr>\n",
              "    <tr>\n",
              "      <th>50%</th>\n",
              "      <td>0.583348</td>\n",
              "      <td>0.300000</td>\n",
              "      <td>NaN</td>\n",
              "      <td>1.110949</td>\n",
              "      <td>NaN</td>\n",
              "    </tr>\n",
              "    <tr>\n",
              "      <th>75%</th>\n",
              "      <td>0.696266</td>\n",
              "      <td>0.700000</td>\n",
              "      <td>NaN</td>\n",
              "      <td>1.302855</td>\n",
              "      <td>NaN</td>\n",
              "    </tr>\n",
              "    <tr>\n",
              "      <th>max</th>\n",
              "      <td>0.901852</td>\n",
              "      <td>0.900000</td>\n",
              "      <td>NaN</td>\n",
              "      <td>2.628411</td>\n",
              "      <td>NaN</td>\n",
              "    </tr>\n",
              "  </tbody>\n",
              "</table>\n",
              "</div>"
            ],
            "text/plain": [
              "        feedback.json_edit_distance  feedback.score_string:accuracy error  \\\n",
              "count                     42.000000                       42.000000     0   \n",
              "unique                          NaN                             NaN     0   \n",
              "top                             NaN                             NaN   NaN   \n",
              "freq                            NaN                             NaN   NaN   \n",
              "mean                       0.572561                        0.457143   NaN   \n",
              "std                        0.178292                        0.251961   NaN   \n",
              "min                        0.190883                        0.100000   NaN   \n",
              "25%                        0.441978                        0.300000   NaN   \n",
              "50%                        0.583348                        0.300000   NaN   \n",
              "75%                        0.696266                        0.700000   NaN   \n",
              "max                        0.901852                        0.900000   NaN   \n",
              "\n",
              "        execution_time                                run_id  \n",
              "count        42.000000                                    42  \n",
              "unique             NaN                                    42  \n",
              "top                NaN  d9c6a0ed-eb1f-45c6-b4f9-9bd4860e04fa  \n",
              "freq               NaN                                     1  \n",
              "mean          1.139226                                   NaN  \n",
              "std           0.382229                                   NaN  \n",
              "min           0.539119                                   NaN  \n",
              "25%           0.914502                                   NaN  \n",
              "50%           1.110949                                   NaN  \n",
              "75%           1.302855                                   NaN  \n",
              "max           2.628411                                   NaN  "
            ]
          },
          "metadata": {},
          "output_type": "display_data"
        }
      ],
      "source": [
        "from langsmith.client import Client\n",
        "\n",
        "from langchain_benchmarks.extraction import get_eval_config\n",
        "\n",
        "client = Client()\n",
        "eval_llm = ChatOpenAI(model=\"gpt-4\", model_kwargs={\"seed\": 42})\n",
        "eval_config = get_eval_config(eval_llm)\n",
        "\n",
        "test_run = client.run_on_dataset(\n",
        "    dataset_name=task.name,\n",
        "    llm_or_chain_factory=extraction_chain,\n",
        "    evaluation=eval_config,\n",
        "    verbose=True,\n",
        "    project_metadata={\n",
        "        \"arch\": \"openai-functions\",\n",
        "    },\n",
        ")"
      ]
    },
    {
      "cell_type": "markdown",
      "metadata": {},
      "source": [
        "## JSON evaluators"
      ]
    },
    {
      "cell_type": "code",
      "execution_count": 14,
      "metadata": {},
      "outputs": [
        {
          "name": "stdout",
          "output_type": "stream",
          "text": [
            "{'score': 0.5405405405405406}\n"
          ]
        }
      ],
      "source": [
        "from langchain.evaluation import JsonEditDistanceEvaluator\n",
        "from flatten_json import flatten\n",
        "\n",
        "evaluator = JsonEditDistanceEvaluator()\n",
        "# Equivalently\n",
        "# evaluator = load_evaluator(\"json_edit_distance\")\n",
        "\n",
        "pred = {\n",
        "    \"basic_info\": {\n",
        "        \"name\": \"Bleiberg Property\"\n",
        "    },\n",
        "    \"location_info\": {\n",
        "        \"location\": \"POINT(13.658889 46.625556)\",\n",
        "        \"crs\": \"WGS84\",\n",
        "        \"country\": \"Austria\",\n",
        "        \"state_or_province\": \"Carinthia\"\n",
        "    },\n",
        "    \"mineral_inventory\": [\n",
        "        {\n",
        "            \"commodity\": \"Zinc\",\n",
        "            \"category\": \"Inferred\",\n",
        "            \"ore_unit\": \"million tonnes\",\n",
        "            \"ore_value\": 13.23,\n",
        "            \"grade_unit\": \"percent\",\n",
        "            \"grade_value\": 6.0,\n",
        "            \"cutoff_grade_unit\": \"unknown\",\n",
        "            \"cutoff_grade_value\": -1,\n",
        "            \"contained_metal\": -1,\n",
        "            \"date\": \"2017-05\",\n",
        "            \"zone\": \"Kalkscholle, Josefischolle, Riedhardscholle\"\n",
        "        },\n",
        "        {\n",
        "            \"commodity\": \"Lead\",\n",
        "        }\n",
        "    ],\n",
        "    \"deposit_type_candidate\": [\n",
        "        {\n",
        "            \"observed_name\": \"MVT zinc-lead\"\n",
        "        }\n",
        "    ]\n",
        "}\n",
        "\n",
        "ref = {\n",
        "    \"basic_info\": {\n",
        "        \"name\": \"BLEIBERG PROPERTY\"\n",
        "    },\n",
        "    \"location_info\": {\n",
        "        \"location\": \"POINT(394000E, 5164500N)\",\n",
        "        \"crs\": \"WGS84\",\n",
        "        \"country\": \"Austria\",\n",
        "        \"state_or_province\": \"Southern Carinthia\"\n",
        "    },\n",
        "    \"mineral_inventory\": [\n",
        "        {\n",
        "            \"commodity\": \"Zinc\",\n",
        "            \"category\": \"Estimated\",\n",
        "            \"ore_unit\": \"tonnes\",\n",
        "            \"ore_value\": 12247399,\n",
        "            \"grade_unit\": \"percent\",\n",
        "            \"grade_value\": 6,\n",
        "            \"cutoff_grade_unit\": \"unknown\",\n",
        "            \"cutoff_grade_value\": -1,\n",
        "            \"date\": \"2017-05\",\n",
        "            \"zone\": \"Bleiberg\"\n",
        "        },\n",
        "        {\n",
        "            \"commodity\": \"Lead\",\n",
        "        }\n",
        "    ],\n",
        "    \"deposit_type_candidate\": [\n",
        "        {\n",
        "            \"observed_name\": \"MVT zinc-lead\"\n",
        "        }\n",
        "    ]\n",
        "}\n",
        "\n",
        "\n",
        "result = []\n",
        "for key in [\"basic_info\", \"location_info\", \"mineral_inventory\", \"deposit_type_candidate\"]:\n",
        "    result = evaluator.evaluate_strings(\n",
        "        prediction=[\"MVT Zinc-lead\"], reference=[\"Mississippi Valley Type Zinc-lead\"]\n",
        "    )\n",
        "print(result)"
      ]
    },
    {
      "cell_type": "code",
      "execution_count": null,
      "metadata": {},
      "outputs": [],
      "source": []
    }
  ],
  "metadata": {
    "kernelspec": {
      "display_name": "minmod-poc",
      "language": "python",
      "name": "python3"
    },
    "language_info": {
      "codemirror_mode": {
        "name": "ipython",
        "version": 3
      },
      "file_extension": ".py",
      "mimetype": "text/x-python",
      "name": "python",
      "nbconvert_exporter": "python",
      "pygments_lexer": "ipython3",
      "version": "3.11.7"
    }
  },
  "nbformat": 4,
  "nbformat_minor": 2
}
