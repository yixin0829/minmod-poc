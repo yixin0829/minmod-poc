{
  "cells": [
    {
      "cell_type": "markdown",
      "metadata": {},
      "source": [
        "# Basic Chain"
      ]
    },
    {
      "cell_type": "code",
      "execution_count": 10,
      "metadata": {},
      "outputs": [],
      "source": [
        "from langchain_openai import ChatOpenAI\n",
        "from dotenv import load_dotenv\n",
        "import os\n",
        "\n",
        "load_dotenv()\n",
        "\n",
        "llm = ChatOpenAI(openai_api_key = os.getenv(\"OPENAI_API_KEY\"))"
      ]
    },
    {
      "cell_type": "code",
      "execution_count": 2,
      "metadata": {},
      "outputs": [
        {
          "data": {
            "text/plain": [
              "AIMessage(content='Langsmith can help with testing in a few ways:\\n\\n1. Automated Testing: Langsmith can be used to write automated test scripts that can be run to quickly and efficiently test software applications. This can help identify bugs and issues early in the development process.\\n\\n2. Test Data Generation: Langsmith can be used to generate test data for various scenarios, helping to ensure that the software is tested under a wide range of conditions.\\n\\n3. Performance Testing: Langsmith can be used to simulate user interactions and test the performance of software applications under different load conditions. This can help identify potential bottlenecks and optimize performance.\\n\\n4. Integration Testing: Langsmith can be used to test the integration of different components or services within a software application, ensuring that they work together as expected.\\n\\nOverall, Langsmith can help streamline the testing process, improve test coverage, and ultimately ensure that software applications are of high quality and perform as expected.')"
            ]
          },
          "execution_count": 2,
          "metadata": {},
          "output_type": "execute_result"
        }
      ],
      "source": [
        "# ask the LLM a question\n",
        "llm.invoke(\"how can langsmith help with testing?\")"
      ]
    },
    {
      "cell_type": "code",
      "execution_count": 8,
      "metadata": {},
      "outputs": [
        {
          "data": {
            "text/plain": [
              "'What is pandas DataFrame?pandas DataFrame | pandas DataFrame'"
            ]
          },
          "execution_count": 8,
          "metadata": {},
          "output_type": "execute_result"
        }
      ],
      "source": [
        "from langchain_core.prompts import PromptTemplate\n",
        "prompt = PromptTemplate.from_template(\"What is pandas DataFrame?{input1} | {input2}\")\n",
        "prompt.format(input1=\"pandas DataFrame\", input2=\"pandas DataFrame\", input3=\"pandas DataFrame\")\n"
      ]
    },
    {
      "cell_type": "code",
      "execution_count": 3,
      "metadata": {},
      "outputs": [
        {
          "name": "stdout",
          "output_type": "stream",
          "text": [
            "System: You are world class technical documentation writer.\n",
            "Human: how can langsmith help with testing?\n"
          ]
        },
        {
          "data": {
            "text/plain": [
              "(str,\n",
              " \"Langsmith can help with testing in several ways:\\n\\n1. Automated Testing: Langsmith provides tools and libraries that enable automated testing of code, which can help ensure the quality and reliability of software products.\\n\\n2. Test Case Generation: Langsmith can assist in generating test cases for various scenarios, reducing the manual effort required for creating comprehensive test suites.\\n\\n3. Code Analysis: Langsmith's code analysis capabilities can help identify potential issues and bugs in the codebase, allowing testers to focus on critical areas during testing.\\n\\n4. Integration Testing: Langsmith can facilitate integration testing by providing utilities to test how different components of a system interact with each other.\\n\\n5. Performance Testing: Langsmith can assist in performance testing by providing tools to measure and analyze the performance of software applications under different conditions.\\n\\nOverall, Langsmith can streamline the testing process and improve the efficiency and effectiveness of testing efforts in software development projects.\")"
            ]
          },
          "execution_count": 3,
          "metadata": {},
          "output_type": "execute_result"
        }
      ],
      "source": [
        "from langchain_core.prompts import ChatPromptTemplate\n",
        "from langchain_core.output_parsers import StrOutputParser\n",
        "\n",
        "# create a prompt template with {input} as the user input\n",
        "prompt = ChatPromptTemplate.from_messages([\n",
        "    (\"system\", \"You are world class technical documentation writer.\"),\n",
        "    (\"user\", \"{input}\")\n",
        "])\n",
        "\n",
        "# you can easily replace placeholder with the user input\n",
        "print(prompt.format(input=\"how can langsmith help with testing?\"))\n",
        "\n",
        "# create a simple output parser to parse AIMessge to string\n",
        "output_parser = StrOutputParser()\n",
        "\n",
        "# a simple LLM chain using LCEL (langchain expression language)\n",
        "chain = prompt | llm | output_parser\n",
        "\n",
        "response = chain.invoke({\"input\": \"how can langsmith help with testing?\"})\n",
        "type(response), response"
      ]
    },
    {
      "cell_type": "markdown",
      "metadata": {},
      "source": [
        "# Retrieval Chain"
      ]
    },
    {
      "cell_type": "markdown",
      "metadata": {},
      "source": [
        "Load documents from web and ingest documents into a vectorstore. Here we use OpenAI's embedding model by default and a light weight local vectorstore, FAISS."
      ]
    },
    {
      "cell_type": "code",
      "execution_count": 4,
      "metadata": {},
      "outputs": [],
      "source": [
        "from langchain_community.document_loaders import WebBaseLoader\n",
        "from langchain_openai import OpenAIEmbeddings\n",
        "loader = WebBaseLoader(\"https://docs.smith.langchain.com\")\n",
        "\n",
        "embeddings = OpenAIEmbeddings()\n",
        "docs = loader.load()"
      ]
    },
    {
      "cell_type": "code",
      "execution_count": 5,
      "metadata": {},
      "outputs": [],
      "source": [
        "from langchain_community.vectorstores import FAISS\n",
        "from langchain.text_splitter import RecursiveCharacterTextSplitter\n",
        "\n",
        "\n",
        "text_splitter = RecursiveCharacterTextSplitter()\n",
        "documents = text_splitter.split_documents(docs)\n",
        "vector = FAISS.from_documents(documents, embeddings)"
      ]
    },
    {
      "cell_type": "markdown",
      "metadata": {},
      "source": [
        "Now that we have this data indexed in a vectorstore, we will create a retrieval chain. This chain will take an incoming question, look up relevant documents, then pass those documents along with the original question into an LLM and ask it to answer the original question."
      ]
    },
    {
      "cell_type": "code",
      "execution_count": 6,
      "metadata": {},
      "outputs": [],
      "source": [
        "from langchain.chains.combine_documents import create_stuff_documents_chain\n",
        "\n",
        "prompt = ChatPromptTemplate.from_template(\"\"\"Answer the following question based only on the provided context:\n",
        "\n",
        "<context>\n",
        "{context}\n",
        "</context>\n",
        "\n",
        "Question: {input}\"\"\")\n",
        "\n",
        "document_chain = create_stuff_documents_chain(llm, prompt)"
      ]
    },
    {
      "cell_type": "markdown",
      "metadata": {},
      "source": [
        "If we wanted to, we could pass the documents directly like previous example:\n",
        "\n",
        "```python\n",
        "from langchain_core.documents import Document\n",
        "\n",
        "document_chain.invoke({\n",
        "    \"input\": \"how can langsmith help with testing?\",\n",
        "    \"context\": [Document(page_content=\"langsmith can let you visualize test results\")]\n",
        "})\n",
        "```\n",
        "\n",
        "But we want to use retrieve the most relevant info from the vectorstore we just created."
      ]
    },
    {
      "cell_type": "code",
      "execution_count": 7,
      "metadata": {},
      "outputs": [
        {
          "name": "stdout",
          "output_type": "stream",
          "text": [
            "LangSmith can help with testing by allowing users to debug, test, evaluate, and monitor chains and intelligent agents built on any LLM framework. It also offers tracing and evaluation capabilities to assist with testing LLM applications.\n"
          ]
        }
      ],
      "source": [
        "from langchain.chains import create_retrieval_chain\n",
        "\n",
        "retriever = vector.as_retriever()\n",
        "retrieval_chain = create_retrieval_chain(retriever, document_chain)\n",
        "\n",
        "response = retrieval_chain.invoke({\"input\": \"how can langsmith help with testing?\"})\n",
        "print(response[\"answer\"])"
      ]
    },
    {
      "cell_type": "code",
      "execution_count": 8,
      "metadata": {},
      "outputs": [
        {
          "data": {
            "text/plain": [
              "{'input': 'how can langsmith help with testing?',\n",
              " 'context': [Document(page_content=\"LangSmith | \\uf8ff\u00fc\u00b6\u00fa\u00d4\u220f\u00e8\\uf8ff\u00fc\u00f5\u2020\u00d4\u220f\u00e8 LangSmith\\n\\n\\n\\n\\n\\nSkip to main content\\uf8ff\u00fc\u00b6\u00fa\u00d4\u220f\u00e8\\uf8ff\u00fc\u00f5\u2020\u00d4\u220f\u00e8 LangSmith DocsLangChain Python DocsLangChain JS/TS DocsLangSmith API DocsSearchGo to AppLangSmithUser GuideSetupPricing (Coming Soon)Self-HostingTracingEvaluationMonitoringPrompt HubLangSmithOn this pageLangSmithIntroduction\u201a\u00c4\u00e3LangSmith is a platform for building production-grade LLM applications.It lets you debug, test, evaluate, and monitor chains and intelligent agents built on any LLM framework and seamlessly integrates with LangChain, the go-to open source framework for building with LLMs.LangSmith is developed by LangChain, the company behind the open source LangChain framework.Quick Start\u201a\u00c4\u00e3Tracing: Get started with the tracing quick start.Evaluation: Get started with the evaluation quick start.Next Steps\u201a\u00c4\u00e3Check out the following sections to learn more about LangSmith:User Guide: Learn about the workflows LangSmith supports at each stage of the LLM application lifecycle.Setup: Learn how to create an account, obtain an API key, and configure your environment.Pricing: Learn about the pricing model for LangSmith.Self-Hosting: Learn about self-hosting options for LangSmith.Tracing: Learn about the tracing capabilities of LangSmith.Evaluation: Learn about the evaluation capabilities of LangSmith.Prompt Hub Learn about the Prompt Hub, a prompt management tool built into LangSmith.Additional Resources\u201a\u00c4\u00e3LangSmith Cookbook: A collection of tutorials and end-to-end walkthroughs using LangSmith.LangChain Python: Docs for the Python LangChain library.LangChain Python API Reference: documentation to review the core APIs of LangChain.LangChain JS: Docs for the TypeScript LangChain libraryDiscord: Join us on our Discord to discuss all things LangChain!Contact SalesIf you're interested in enterprise security and admin features, special deployment options, or access for large teams, reach out to speak with sales.NextUser GuideIntroductionQuick StartNext StepsAdditional ResourcesCommunityDiscordTwitterGitHubDocs CodeLangSmith SDKPythonJS/TSMoreHomepageBlogCopyright \u00ac\u00a9 2024 LangChain, Inc.\", metadata={'source': 'https://docs.smith.langchain.com', 'title': 'LangSmith | \\uf8ff\u00fc\u00b6\u00fa\u00d4\u220f\u00e8\\uf8ff\u00fc\u00f5\u2020\u00d4\u220f\u00e8 LangSmith', 'description': 'Introduction', 'language': 'en'})],\n",
              " 'answer': 'LangSmith can help with testing by allowing users to debug, test, evaluate, and monitor chains and intelligent agents built on any LLM framework. It also offers tracing and evaluation capabilities to assist with testing LLM applications.'}"
            ]
          },
          "execution_count": 8,
          "metadata": {},
          "output_type": "execute_result"
        }
      ],
      "source": [
        "response"
      ]
    }
  ],
  "metadata": {
    "kernelspec": {
      "display_name": "minmod-poc",
      "language": "python",
      "name": "python3"
    },
    "language_info": {
      "codemirror_mode": {
        "name": "ipython",
        "version": 3
      },
      "file_extension": ".py",
      "mimetype": "text/x-python",
      "name": "python",
      "nbconvert_exporter": "python",
      "pygments_lexer": "ipython3",
      "version": "3.11.7"
    }
  },
  "nbformat": 4,
  "nbformat_minor": 2
}
