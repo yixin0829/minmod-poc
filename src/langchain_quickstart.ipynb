{
  "cells": [
    {
      "cell_type": "markdown",
      "metadata": {},
      "source": [
        "# Basic Chain"
      ]
    },
    {
      "cell_type": "code",
      "execution_count": 1,
      "metadata": {},
      "outputs": [],
      "source": [
        "from langchain_openai import ChatOpenAI\n",
        "from dotenv import load_dotenv\n",
        "import os\n",
        "\n",
        "load_dotenv()\n",
        "\n",
        "llm = ChatOpenAI(openai_api_key = os.getenv(\"OPENAI_API_KEY\"))"
      ]
    },
    {
      "cell_type": "code",
      "execution_count": 2,
      "metadata": {},
      "outputs": [
        {
          "data": {
            "text/plain": [
              "AIMessage(content='Langsmith can help with testing by providing automated testing tools and frameworks to streamline the testing process. This can include features such as test case generation, test execution, and results reporting. Langsmith can also provide integration with continuous integration and continuous deployment pipelines to ensure that tests are automatically run and monitored throughout the development process. Additionally, Langsmith can offer support for various types of testing, including unit testing, integration testing, and performance testing, to help ensure the overall quality of the software being developed.')"
            ]
          },
          "execution_count": 2,
          "metadata": {},
          "output_type": "execute_result"
        }
      ],
      "source": [
        "# ask the LLM a question\n",
        "llm.invoke(\"how can langsmith help with testing?\")"
      ]
    },
    {
      "cell_type": "code",
      "execution_count": 15,
      "metadata": {},
      "outputs": [
        {
          "name": "stdout",
          "output_type": "stream",
          "text": [
            "System: You are world class technical documentation writer.\n",
            "Human: how can langsmith help with testing?\n"
          ]
        },
        {
          "data": {
            "text/plain": [
              "(str,\n",
              " 'Langsmith can help with testing in a number of ways:\\n\\n1. Automated testing: Langsmith can be used to write test scripts in various programming languages to automate the testing process. This can help speed up the testing process and ensure that the software is thoroughly tested.\\n\\n2. Test data generation: Langsmith can be used to generate test data for different scenarios, allowing testers to simulate real-world conditions and edge cases. This can help ensure that the software is robust and can handle a variety of inputs.\\n\\n3. Integration testing: Langsmith can be used to write scripts for integration testing, where different components of the software are tested together to ensure that they work seamlessly. This can help identify any issues with how the components interact with each other.\\n\\n4. Performance testing: Langsmith can be used to write scripts for performance testing, where the software is tested under different load conditions to ensure that it can handle the expected workload. This can help identify any performance bottlenecks and ensure that the software performs well in production.\\n\\nOverall, Langsmith can help streamline the testing process, improve test coverage, and ensure the quality of the software before it is released to customers.')"
            ]
          },
          "execution_count": 15,
          "metadata": {},
          "output_type": "execute_result"
        }
      ],
      "source": [
        "from langchain_core.prompts import ChatPromptTemplate\n",
        "from langchain_core.output_parsers import StrOutputParser\n",
        "\n",
        "# create a prompt template with {input} as the user input\n",
        "prompt = ChatPromptTemplate.from_messages([\n",
        "    (\"system\", \"You are world class technical documentation writer.\"),\n",
        "    (\"user\", \"{input}\")\n",
        "])\n",
        "\n",
        "# you can easily replace placeholder with the user input\n",
        "print(prompt.format(input=\"how can langsmith help with testing?\"))\n",
        "\n",
        "# create a simple output parser to parse AIMessge to string\n",
        "output_parser = StrOutputParser()\n",
        "\n",
        "# a simple LLM chain using LCEL (langchain expression language)\n",
        "chain = prompt | llm | output_parser\n",
        "\n",
        "response = chain.invoke({\"input\": \"how can langsmith help with testing?\"})\n",
        "type(response), response"
      ]
    },
    {
      "cell_type": "markdown",
      "metadata": {},
      "source": [
        "# Retrieval Chain"
      ]
    },
    {
      "cell_type": "markdown",
      "metadata": {},
      "source": [
        "Load documents from web and ingest documents into a vectorstore. Here we use OpenAI's embedding model by default and a light weight local vectorstore, FAISS."
      ]
    },
    {
      "cell_type": "code",
      "execution_count": 9,
      "metadata": {},
      "outputs": [],
      "source": [
        "from langchain_community.document_loaders import WebBaseLoader\n",
        "from langchain_openai import OpenAIEmbeddings\n",
        "loader = WebBaseLoader(\"https://docs.smith.langchain.com\")\n",
        "\n",
        "embeddings = OpenAIEmbeddings()\n",
        "docs = loader.load()"
      ]
    },
    {
      "cell_type": "code",
      "execution_count": 10,
      "metadata": {},
      "outputs": [],
      "source": [
        "from langchain_community.vectorstores import FAISS\n",
        "from langchain.text_splitter import RecursiveCharacterTextSplitter\n",
        "\n",
        "\n",
        "text_splitter = RecursiveCharacterTextSplitter()\n",
        "documents = text_splitter.split_documents(docs)\n",
        "vector = FAISS.from_documents(documents, embeddings)"
      ]
    },
    {
      "cell_type": "markdown",
      "metadata": {},
      "source": [
        "Now that we have this data indexed in a vectorstore, we will create a retrieval chain. This chain will take an incoming question, look up relevant documents, then pass those documents along with the original question into an LLM and ask it to answer the original question."
      ]
    },
    {
      "cell_type": "code",
      "execution_count": 12,
      "metadata": {},
      "outputs": [],
      "source": [
        "from langchain.chains.combine_documents import create_stuff_documents_chain\n",
        "\n",
        "prompt = ChatPromptTemplate.from_template(\"\"\"Answer the following question based only on the provided context:\n",
        "\n",
        "<context>\n",
        "{context}\n",
        "</context>\n",
        "\n",
        "Question: {input}\"\"\")\n",
        "\n",
        "document_chain = create_stuff_documents_chain(llm, prompt)"
      ]
    },
    {
      "cell_type": "markdown",
      "metadata": {},
      "source": [
        "If we wanted to, we could pass the documents directly like previous example:\n",
        "\n",
        "```python\n",
        "from langchain_core.documents import Document\n",
        "\n",
        "document_chain.invoke({\n",
        "    \"input\": \"how can langsmith help with testing?\",\n",
        "    \"context\": [Document(page_content=\"langsmith can let you visualize test results\")]\n",
        "})\n",
        "```\n",
        "\n",
        "But we want to use retrieve the most relevant info from the vectorstore we just created."
      ]
    },
    {
      "cell_type": "code",
      "execution_count": 13,
      "metadata": {},
      "outputs": [
        {
          "name": "stdout",
          "output_type": "stream",
          "text": [
            "LangSmith can help with testing by providing the capability to debug, test, evaluate, and monitor chains and intelligent agents built on any LLM framework. It also seamlessly integrates with LangChain, which is an open source framework for building with LLMs. Additionally, LangSmith offers tracing and evaluation capabilities to assist with testing LLM applications.\n"
          ]
        }
      ],
      "source": [
        "from langchain.chains import create_retrieval_chain\n",
        "\n",
        "retriever = vector.as_retriever()\n",
        "retrieval_chain = create_retrieval_chain(retriever, document_chain)\n",
        "\n",
        "response = retrieval_chain.invoke({\"input\": \"how can langsmith help with testing?\"})\n",
        "print(response[\"answer\"])"
      ]
    },
    {
      "cell_type": "code",
      "execution_count": 14,
      "metadata": {},
      "outputs": [
        {
          "data": {
            "text/plain": [
              "{'input': 'how can langsmith help with testing?',\n",
              " 'context': [Document(page_content=\"LangSmith | \ud83e\udd9c\ufe0f\ud83d\udee0\ufe0f LangSmith\\n\\n\\n\\n\\n\\nSkip to main content\ud83e\udd9c\ufe0f\ud83d\udee0\ufe0f LangSmith DocsLangChain Python DocsLangChain JS/TS DocsLangSmith API DocsSearchGo to AppLangSmithUser GuideSetupPricing (Coming Soon)Self-HostingTracingEvaluationMonitoringPrompt HubLangSmithOn this pageLangSmithIntroduction\\u200bLangSmith is a platform for building production-grade LLM applications.It lets you debug, test, evaluate, and monitor chains and intelligent agents built on any LLM framework and seamlessly integrates with LangChain, the go-to open source framework for building with LLMs.LangSmith is developed by LangChain, the company behind the open source LangChain framework.Quick Start\\u200bTracing: Get started with the tracing quick start.Evaluation: Get started with the evaluation quick start.Next Steps\\u200bCheck out the following sections to learn more about LangSmith:User Guide: Learn about the workflows LangSmith supports at each stage of the LLM application lifecycle.Setup: Learn how to create an account, obtain an API key, and configure your environment.Pricing: Learn about the pricing model for LangSmith.Self-Hosting: Learn about self-hosting options for LangSmith.Tracing: Learn about the tracing capabilities of LangSmith.Evaluation: Learn about the evaluation capabilities of LangSmith.Prompt Hub Learn about the Prompt Hub, a prompt management tool built into LangSmith.Additional Resources\\u200bLangSmith Cookbook: A collection of tutorials and end-to-end walkthroughs using LangSmith.LangChain Python: Docs for the Python LangChain library.LangChain Python API Reference: documentation to review the core APIs of LangChain.LangChain JS: Docs for the TypeScript LangChain libraryDiscord: Join us on our Discord to discuss all things LangChain!Contact SalesIf you're interested in enterprise security and admin features, special deployment options, or access for large teams, reach out to speak with sales.NextUser GuideIntroductionQuick StartNext StepsAdditional ResourcesCommunityDiscordTwitterGitHubDocs CodeLangSmith SDKPythonJS/TSMoreHomepageBlogCopyright \u00a9 2024 LangChain, Inc.\", metadata={'source': 'https://docs.smith.langchain.com', 'title': 'LangSmith | \ud83e\udd9c\ufe0f\ud83d\udee0\ufe0f LangSmith', 'description': 'Introduction', 'language': 'en'})],\n",
              " 'answer': 'LangSmith can help with testing by providing the capability to debug, test, evaluate, and monitor chains and intelligent agents built on any LLM framework. It also seamlessly integrates with LangChain, which is an open source framework for building with LLMs. Additionally, LangSmith offers tracing and evaluation capabilities to assist with testing LLM applications.'}"
            ]
          },
          "execution_count": 14,
          "metadata": {},
          "output_type": "execute_result"
        }
      ],
      "source": [
        "response"
      ]
    }
  ],
  "metadata": {
    "kernelspec": {
      "display_name": "minmod-poc",
      "language": "python",
      "name": "python3"
    },
    "language_info": {
      "codemirror_mode": {
        "name": "ipython",
        "version": 3
      },
      "file_extension": ".py",
      "mimetype": "text/x-python",
      "name": "python",
      "nbconvert_exporter": "python",
      "pygments_lexer": "ipython3",
      "version": "3.11.7"
    }
  },
  "nbformat": 4,
  "nbformat_minor": 2
}
